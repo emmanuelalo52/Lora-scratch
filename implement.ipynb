{
 "cells": [
  {
   "cell_type": "code",
   "execution_count": 35,
   "metadata": {},
   "outputs": [],
   "source": [
    "import torch\n",
    "import torch.nn as nn\n",
    "import torch.functional as F"
   ]
  },
  {
   "cell_type": "code",
   "execution_count": 36,
   "metadata": {},
   "outputs": [],
   "source": [
    "x = torch.rand((1000,20))\n",
    "\n",
    "y = (torch.sin(x.sum(1))>0).long()\n",
    "\n",
    "unique, counts = torch.unique(y, return_counts=True)\n",
    "distribution = dict(zip(unique.tolist(), counts.tolist()))\n",
    "\n",
    "n_train = 800\n",
    "batch_size = 64"
   ]
  },
  {
   "cell_type": "code",
   "execution_count": 37,
   "metadata": {},
   "outputs": [],
   "source": [
    "#dataloader\n",
    "train_dataloader = torch.utils.data.DataLoader(torch.utils.data.TensorDataset(x[:n_train],y[:n_train]),batch_size=batch_size,shuffle=True,)\n",
    "\n",
    "eval_dataloader = torch.utils.data.DataLoader(torch.utils.data.TensorDataset(x[n_train:],y[n_train:]),batch_size=batch_size)"
   ]
  },
  {
   "cell_type": "code",
   "execution_count": 38,
   "metadata": {},
   "outputs": [],
   "source": [
    "class MLP(nn.Module):\n",
    "    def __init__(self):\n",
    "        super().__init__()\n",
    "        self.seq = nn.Sequential(\n",
    "            nn.Linear(20,2000),\n",
    "            nn.ReLU(),\n",
    "            nn.Linear(2000,200),\n",
    "            nn.ReLU(),\n",
    "            nn.Linear(200,2),\n",
    "            nn.LogSoftmax(dim=-1),\n",
    "        )\n",
    "    def forward(self,x):\n",
    "        return self.seq(x)\n",
    "    \n",
    "lr = 0.002\n",
    "batch_size = 64\n",
    "max_epochs = 35\n",
    "device = 'cuda' if torch.cuda.is_available() else 'cpu'"
   ]
  },
  {
   "cell_type": "code",
   "execution_count": 39,
   "metadata": {},
   "outputs": [
    {
     "data": {
      "text/plain": [
       "'cpu'"
      ]
     },
     "execution_count": 39,
     "metadata": {},
     "output_type": "execute_result"
    }
   ],
   "source": [
    "device"
   ]
  },
  {
   "cell_type": "code",
   "execution_count": 40,
   "metadata": {},
   "outputs": [],
   "source": [
    "def train(model, optimizer, criterion, train_dataloader, eval_dataloader, epochs):\n",
    "    for epoch in range(epochs):\n",
    "        model.train()\n",
    "        train_loss = 0\n",
    "        for xb, yb in train_dataloader:\n",
    "            xb = xb.to(device)\n",
    "            yb = yb.to(device)\n",
    "            outputs = model(xb)\n",
    "            loss = criterion(outputs, yb)\n",
    "            train_loss += loss.detach().float()\n",
    "            loss.backward()\n",
    "            optimizer.step()\n",
    "            optimizer.zero_grad()\n",
    "\n",
    "        model.eval()\n",
    "        eval_loss = 0\n",
    "        for xb, yb in eval_dataloader:\n",
    "            xb = xb.to(device)\n",
    "            yb = yb.to(device)\n",
    "            with torch.no_grad():\n",
    "                outputs = model(xb)\n",
    "            loss = criterion(outputs, yb)\n",
    "            eval_loss += loss.detach().float()\n",
    "\n",
    "        eval_loss_total = (eval_loss / len(eval_dataloader)).item()\n",
    "        train_loss_total = (train_loss / len(train_dataloader)).item()\n",
    "        print(f\"{epoch=:<2}  {train_loss_total=:.4f}  {eval_loss_total=:.4f}\")"
   ]
  },
  {
   "cell_type": "code",
   "execution_count": 41,
   "metadata": {},
   "outputs": [],
   "source": [
    "base_model = MLP().to(device)\n",
    "optimizer = torch.optim.Adam(base_model.parameters(), lr=lr)\n",
    "criterion = nn.CrossEntropyLoss()\n"
   ]
  },
  {
   "cell_type": "code",
   "execution_count": 42,
   "metadata": {},
   "outputs": [
    {
     "data": {
      "text/plain": [
       "MLP(\n",
       "  (seq): Sequential(\n",
       "    (0): Linear(in_features=20, out_features=2000, bias=True)\n",
       "    (1): ReLU()\n",
       "    (2): Linear(in_features=2000, out_features=200, bias=True)\n",
       "    (3): ReLU()\n",
       "    (4): Linear(in_features=200, out_features=2, bias=True)\n",
       "    (5): LogSoftmax(dim=-1)\n",
       "  )\n",
       ")"
      ]
     },
     "execution_count": 42,
     "metadata": {},
     "output_type": "execute_result"
    }
   ],
   "source": [
    "base_model"
   ]
  },
  {
   "cell_type": "code",
   "execution_count": 43,
   "metadata": {},
   "outputs": [],
   "source": [
    "#train params\n",
    "def trainable_parameters(model):\n",
    "    trainable_params = 0\n",
    "    all_params = 0\n",
    "    for _,params in model.named_parameters():\n",
    "        all_params+=params.numel()\n",
    "        if params.requires_grad:\n",
    "            trainable_params+=params.numel()\n",
    "    print(f\"trainable params: {trainable_params} || all params: {all_params} || trainable%: {100 * trainable_params / all_params}\")"
   ]
  },
  {
   "cell_type": "code",
   "execution_count": 44,
   "metadata": {},
   "outputs": [
    {
     "name": "stdout",
     "output_type": "stream",
     "text": [
      "trainable params: 442602 || all params: 442602 || trainable%: 100.0\n"
     ]
    }
   ],
   "source": [
    "trainable_parameters(base_model)"
   ]
  },
  {
   "cell_type": "code",
   "execution_count": 45,
   "metadata": {},
   "outputs": [
    {
     "name": "stdout",
     "output_type": "stream",
     "text": [
      "epoch=0   train_loss_total=0.6533  eval_loss_total=0.6142\n",
      "epoch=1   train_loss_total=0.5644  eval_loss_total=0.5480\n",
      "epoch=2   train_loss_total=0.4719  eval_loss_total=0.4257\n",
      "epoch=3   train_loss_total=0.3922  eval_loss_total=0.4282\n",
      "epoch=4   train_loss_total=0.3832  eval_loss_total=0.3424\n",
      "epoch=5   train_loss_total=0.3882  eval_loss_total=0.4349\n",
      "epoch=6   train_loss_total=0.3559  eval_loss_total=0.3626\n",
      "epoch=7   train_loss_total=0.3831  eval_loss_total=0.3833\n",
      "epoch=8   train_loss_total=0.3440  eval_loss_total=0.3817\n",
      "epoch=9   train_loss_total=0.2995  eval_loss_total=0.3541\n",
      "epoch=10  train_loss_total=0.2626  eval_loss_total=0.3377\n",
      "epoch=11  train_loss_total=0.2584  eval_loss_total=0.3602\n",
      "epoch=12  train_loss_total=0.2270  eval_loss_total=0.3462\n",
      "epoch=13  train_loss_total=0.2291  eval_loss_total=0.3808\n",
      "epoch=14  train_loss_total=0.2298  eval_loss_total=0.3745\n",
      "epoch=15  train_loss_total=0.2051  eval_loss_total=0.3491\n",
      "epoch=16  train_loss_total=0.1968  eval_loss_total=0.5074\n",
      "epoch=17  train_loss_total=0.2165  eval_loss_total=0.3935\n",
      "epoch=18  train_loss_total=0.1547  eval_loss_total=0.3794\n",
      "epoch=19  train_loss_total=0.1415  eval_loss_total=0.3984\n"
     ]
    }
   ],
   "source": [
    "train(base_model, optimizer, criterion, train_dataloader, eval_dataloader, epochs=20)"
   ]
  },
  {
   "cell_type": "code",
   "execution_count": 46,
   "metadata": {},
   "outputs": [
    {
     "name": "stdout",
     "output_type": "stream",
     "text": [
      "False\n"
     ]
    }
   ],
   "source": [
    "print(torch.cuda.is_available())  # Should return True if CUDA is available"
   ]
  },
  {
   "cell_type": "code",
   "execution_count": 47,
   "metadata": {},
   "outputs": [
    {
     "name": "stdout",
     "output_type": "stream",
     "text": [
      "Looking in indexes: https://pypi.org/simple, https://pypi.ngc.nvidia.com\n",
      "Requirement already satisfied: peft in c:\\users\\hp\\appdata\\local\\programs\\python\\python311\\lib\\site-packages (0.14.0)\n",
      "Requirement already satisfied: numpy>=1.17 in c:\\users\\hp\\appdata\\local\\programs\\python\\python311\\lib\\site-packages (from peft) (1.26.4)\n",
      "Requirement already satisfied: packaging>=20.0 in c:\\users\\hp\\appdata\\local\\programs\\python\\python311\\lib\\site-packages (from peft) (23.2)\n",
      "Requirement already satisfied: psutil in c:\\users\\hp\\appdata\\roaming\\python\\python311\\site-packages (from peft) (5.9.6)\n",
      "Requirement already satisfied: pyyaml in c:\\users\\hp\\appdata\\local\\programs\\python\\python311\\lib\\site-packages (from peft) (6.0.1)\n",
      "Requirement already satisfied: torch>=1.13.0 in c:\\users\\hp\\appdata\\local\\programs\\python\\python311\\lib\\site-packages (from peft) (2.5.1)\n",
      "Requirement already satisfied: transformers in c:\\users\\hp\\appdata\\local\\programs\\python\\python311\\lib\\site-packages (from peft) (4.46.0)\n",
      "Requirement already satisfied: tqdm in c:\\users\\hp\\appdata\\local\\programs\\python\\python311\\lib\\site-packages (from peft) (4.66.1)\n",
      "Requirement already satisfied: accelerate>=0.21.0 in c:\\users\\hp\\appdata\\local\\programs\\python\\python311\\lib\\site-packages (from peft) (0.24.0)\n",
      "Requirement already satisfied: safetensors in c:\\users\\hp\\appdata\\local\\programs\\python\\python311\\lib\\site-packages (from peft) (0.4.2)\n",
      "Requirement already satisfied: huggingface-hub>=0.25.0 in c:\\users\\hp\\appdata\\local\\programs\\python\\python311\\lib\\site-packages (from peft) (0.26.1)\n",
      "Requirement already satisfied: filelock in c:\\users\\hp\\appdata\\local\\programs\\python\\python311\\lib\\site-packages (from huggingface-hub>=0.25.0->peft) (3.12.4)\n",
      "Requirement already satisfied: fsspec>=2023.5.0 in c:\\users\\hp\\appdata\\local\\programs\\python\\python311\\lib\\site-packages (from huggingface-hub>=0.25.0->peft) (2023.10.0)\n",
      "Requirement already satisfied: requests in c:\\users\\hp\\appdata\\local\\programs\\python\\python311\\lib\\site-packages (from huggingface-hub>=0.25.0->peft) (2.31.0)\n",
      "Requirement already satisfied: typing-extensions>=3.7.4.3 in c:\\users\\hp\\appdata\\local\\programs\\python\\python311\\lib\\site-packages (from huggingface-hub>=0.25.0->peft) (4.11.0)\n",
      "Requirement already satisfied: networkx in c:\\users\\hp\\appdata\\local\\programs\\python\\python311\\lib\\site-packages (from torch>=1.13.0->peft) (3.0)\n",
      "Requirement already satisfied: jinja2 in c:\\users\\hp\\appdata\\local\\programs\\python\\python311\\lib\\site-packages (from torch>=1.13.0->peft) (3.1.2)\n",
      "Requirement already satisfied: sympy==1.13.1 in c:\\users\\hp\\appdata\\local\\programs\\python\\python311\\lib\\site-packages (from torch>=1.13.0->peft) (1.13.1)\n",
      "Requirement already satisfied: mpmath<1.4,>=1.1.0 in c:\\users\\hp\\appdata\\local\\programs\\python\\python311\\lib\\site-packages (from sympy==1.13.1->torch>=1.13.0->peft) (1.3.0)\n",
      "Requirement already satisfied: colorama in c:\\users\\hp\\appdata\\local\\programs\\python\\python311\\lib\\site-packages (from tqdm->peft) (0.4.6)\n",
      "Requirement already satisfied: regex!=2019.12.17 in c:\\users\\hp\\appdata\\local\\programs\\python\\python311\\lib\\site-packages (from transformers->peft) (2023.10.3)\n",
      "Requirement already satisfied: tokenizers<0.21,>=0.20 in c:\\users\\hp\\appdata\\local\\programs\\python\\python311\\lib\\site-packages (from transformers->peft) (0.20.1)\n",
      "Requirement already satisfied: MarkupSafe>=2.0 in c:\\users\\hp\\appdata\\local\\programs\\python\\python311\\lib\\site-packages (from jinja2->torch>=1.13.0->peft) (2.1.3)\n",
      "Requirement already satisfied: charset-normalizer<4,>=2 in c:\\users\\hp\\appdata\\local\\programs\\python\\python311\\lib\\site-packages (from requests->huggingface-hub>=0.25.0->peft) (3.3.1)\n",
      "Requirement already satisfied: idna<4,>=2.5 in c:\\users\\hp\\appdata\\local\\programs\\python\\python311\\lib\\site-packages (from requests->huggingface-hub>=0.25.0->peft) (3.4)\n",
      "Requirement already satisfied: urllib3<3,>=1.21.1 in c:\\users\\hp\\appdata\\local\\programs\\python\\python311\\lib\\site-packages (from requests->huggingface-hub>=0.25.0->peft) (1.26.18)\n",
      "Requirement already satisfied: certifi>=2017.4.17 in c:\\users\\hp\\appdata\\local\\programs\\python\\python311\\lib\\site-packages (from requests->huggingface-hub>=0.25.0->peft) (2023.7.22)\n"
     ]
    }
   ],
   "source": [
    "!python -m pip install --upgrade peft"
   ]
  },
  {
   "cell_type": "code",
   "execution_count": 48,
   "metadata": {},
   "outputs": [],
   "source": [
    "import copy\n",
    "import os\n",
    "\n",
    "os.environ[\"BITSANDBYTES_NOWELCOME\"] = \"1\""
   ]
  },
  {
   "cell_type": "code",
   "execution_count": 49,
   "metadata": {},
   "outputs": [],
   "source": [
    "import peft"
   ]
  },
  {
   "cell_type": "code",
   "execution_count": 50,
   "metadata": {},
   "outputs": [
    {
     "data": {
      "text/plain": [
       "[('', __main__.MLP),\n",
       " ('seq', torch.nn.modules.container.Sequential),\n",
       " ('seq.0', torch.nn.modules.linear.Linear),\n",
       " ('seq.1', torch.nn.modules.activation.ReLU),\n",
       " ('seq.2', torch.nn.modules.linear.Linear),\n",
       " ('seq.3', torch.nn.modules.activation.ReLU),\n",
       " ('seq.4', torch.nn.modules.linear.Linear),\n",
       " ('seq.5', torch.nn.modules.activation.LogSoftmax)]"
      ]
     },
     "execution_count": 50,
     "metadata": {},
     "output_type": "execute_result"
    }
   ],
   "source": [
    "# Let's identify the names of the modules, ensuring that we fine-tune the appropriate ones with adaptors.\n",
    "[(n, type(m)) for n, m in base_model.named_modules()]"
   ]
  },
  {
   "cell_type": "code",
   "execution_count": 51,
   "metadata": {},
   "outputs": [
    {
     "data": {
      "text/plain": [
       "[('',\n",
       "  __main__.MLP,\n",
       "  [torch.Size([2000, 20]),\n",
       "   torch.Size([2000]),\n",
       "   torch.Size([200, 2000]),\n",
       "   torch.Size([200]),\n",
       "   torch.Size([2, 200]),\n",
       "   torch.Size([2])]),\n",
       " ('seq',\n",
       "  torch.nn.modules.container.Sequential,\n",
       "  [torch.Size([2000, 20]),\n",
       "   torch.Size([2000]),\n",
       "   torch.Size([200, 2000]),\n",
       "   torch.Size([200]),\n",
       "   torch.Size([2, 200]),\n",
       "   torch.Size([2])]),\n",
       " ('seq.0',\n",
       "  torch.nn.modules.linear.Linear,\n",
       "  [torch.Size([2000, 20]), torch.Size([2000])]),\n",
       " ('seq.1', torch.nn.modules.activation.ReLU, []),\n",
       " ('seq.2',\n",
       "  torch.nn.modules.linear.Linear,\n",
       "  [torch.Size([200, 2000]), torch.Size([200])]),\n",
       " ('seq.3', torch.nn.modules.activation.ReLU, []),\n",
       " ('seq.4',\n",
       "  torch.nn.modules.linear.Linear,\n",
       "  [torch.Size([2, 200]), torch.Size([2])]),\n",
       " ('seq.5', torch.nn.modules.activation.LogSoftmax, [])]"
      ]
     },
     "execution_count": 51,
     "metadata": {},
     "output_type": "execute_result"
    }
   ],
   "source": [
    "#shape\n",
    "[(n, type(m), [p.shape for p in m.parameters()]) for n, m in base_model.named_modules()]"
   ]
  },
  {
   "cell_type": "code",
   "execution_count": 52,
   "metadata": {},
   "outputs": [],
   "source": [
    "config = peft.LoraConfig(r=3,target_modules=[\"seq.0\",\"seq.2\"],)"
   ]
  },
  {
   "cell_type": "code",
   "execution_count": 53,
   "metadata": {},
   "outputs": [
    {
     "name": "stdout",
     "output_type": "stream",
     "text": [
      "trainable params: 12,660 || all params: 455,262 || trainable%: 2.7808\n"
     ]
    }
   ],
   "source": [
    "base_model_pretrained = copy.deepcopy(base_model) #copy for pretraining\n",
    "peft_model = peft.get_peft_model(base_model,config)\n",
    "optim_model = torch.optim.Adam(peft_model.parameters(),lr=lr)\n",
    "criterion = nn.CrossEntropyLoss()\n",
    "peft_model.print_trainable_parameters()"
   ]
  },
  {
   "cell_type": "code",
   "execution_count": 54,
   "metadata": {},
   "outputs": [
    {
     "data": {
      "text/plain": [
       "PeftModel(\n",
       "  (base_model): LoraModel(\n",
       "    (model): MLP(\n",
       "      (seq): Sequential(\n",
       "        (0): lora.Linear(\n",
       "          (base_layer): Linear(in_features=20, out_features=2000, bias=True)\n",
       "          (lora_dropout): ModuleDict(\n",
       "            (default): Identity()\n",
       "          )\n",
       "          (lora_A): ModuleDict(\n",
       "            (default): Linear(in_features=20, out_features=3, bias=False)\n",
       "          )\n",
       "          (lora_B): ModuleDict(\n",
       "            (default): Linear(in_features=3, out_features=2000, bias=False)\n",
       "          )\n",
       "          (lora_embedding_A): ParameterDict()\n",
       "          (lora_embedding_B): ParameterDict()\n",
       "          (lora_magnitude_vector): ModuleDict()\n",
       "        )\n",
       "        (1): ReLU()\n",
       "        (2): lora.Linear(\n",
       "          (base_layer): Linear(in_features=2000, out_features=200, bias=True)\n",
       "          (lora_dropout): ModuleDict(\n",
       "            (default): Identity()\n",
       "          )\n",
       "          (lora_A): ModuleDict(\n",
       "            (default): Linear(in_features=2000, out_features=3, bias=False)\n",
       "          )\n",
       "          (lora_B): ModuleDict(\n",
       "            (default): Linear(in_features=3, out_features=200, bias=False)\n",
       "          )\n",
       "          (lora_embedding_A): ParameterDict()\n",
       "          (lora_embedding_B): ParameterDict()\n",
       "          (lora_magnitude_vector): ModuleDict()\n",
       "        )\n",
       "        (3): ReLU()\n",
       "        (4): Linear(in_features=200, out_features=2, bias=True)\n",
       "        (5): LogSoftmax(dim=-1)\n",
       "      )\n",
       "    )\n",
       "  )\n",
       ")"
      ]
     },
     "execution_count": 54,
     "metadata": {},
     "output_type": "execute_result"
    }
   ],
   "source": [
    "peft_model"
   ]
  },
  {
   "cell_type": "code",
   "execution_count": 55,
   "metadata": {},
   "outputs": [
    {
     "data": {
      "text/plain": [
       "[('',\n",
       "  peft.peft_model.PeftModel,\n",
       "  [torch.Size([2000, 20]),\n",
       "   torch.Size([2000]),\n",
       "   torch.Size([3, 20]),\n",
       "   torch.Size([2000, 3]),\n",
       "   torch.Size([200, 2000]),\n",
       "   torch.Size([200]),\n",
       "   torch.Size([3, 2000]),\n",
       "   torch.Size([200, 3]),\n",
       "   torch.Size([2, 200]),\n",
       "   torch.Size([2])]),\n",
       " ('base_model',\n",
       "  peft.tuners.lora.model.LoraModel,\n",
       "  [torch.Size([2000, 20]),\n",
       "   torch.Size([2000]),\n",
       "   torch.Size([3, 20]),\n",
       "   torch.Size([2000, 3]),\n",
       "   torch.Size([200, 2000]),\n",
       "   torch.Size([200]),\n",
       "   torch.Size([3, 2000]),\n",
       "   torch.Size([200, 3]),\n",
       "   torch.Size([2, 200]),\n",
       "   torch.Size([2])]),\n",
       " ('base_model.model',\n",
       "  __main__.MLP,\n",
       "  [torch.Size([2000, 20]),\n",
       "   torch.Size([2000]),\n",
       "   torch.Size([3, 20]),\n",
       "   torch.Size([2000, 3]),\n",
       "   torch.Size([200, 2000]),\n",
       "   torch.Size([200]),\n",
       "   torch.Size([3, 2000]),\n",
       "   torch.Size([200, 3]),\n",
       "   torch.Size([2, 200]),\n",
       "   torch.Size([2])]),\n",
       " ('base_model.model.seq',\n",
       "  torch.nn.modules.container.Sequential,\n",
       "  [torch.Size([2000, 20]),\n",
       "   torch.Size([2000]),\n",
       "   torch.Size([3, 20]),\n",
       "   torch.Size([2000, 3]),\n",
       "   torch.Size([200, 2000]),\n",
       "   torch.Size([200]),\n",
       "   torch.Size([3, 2000]),\n",
       "   torch.Size([200, 3]),\n",
       "   torch.Size([2, 200]),\n",
       "   torch.Size([2])]),\n",
       " ('base_model.model.seq.0',\n",
       "  peft.tuners.lora.layer.Linear,\n",
       "  [torch.Size([2000, 20]),\n",
       "   torch.Size([2000]),\n",
       "   torch.Size([3, 20]),\n",
       "   torch.Size([2000, 3])]),\n",
       " ('base_model.model.seq.0.base_layer',\n",
       "  torch.nn.modules.linear.Linear,\n",
       "  [torch.Size([2000, 20]), torch.Size([2000])]),\n",
       " ('base_model.model.seq.0.lora_dropout',\n",
       "  torch.nn.modules.container.ModuleDict,\n",
       "  []),\n",
       " ('base_model.model.seq.0.lora_dropout.default',\n",
       "  torch.nn.modules.linear.Identity,\n",
       "  []),\n",
       " ('base_model.model.seq.0.lora_A',\n",
       "  torch.nn.modules.container.ModuleDict,\n",
       "  [torch.Size([3, 20])]),\n",
       " ('base_model.model.seq.0.lora_A.default',\n",
       "  torch.nn.modules.linear.Linear,\n",
       "  [torch.Size([3, 20])]),\n",
       " ('base_model.model.seq.0.lora_B',\n",
       "  torch.nn.modules.container.ModuleDict,\n",
       "  [torch.Size([2000, 3])]),\n",
       " ('base_model.model.seq.0.lora_B.default',\n",
       "  torch.nn.modules.linear.Linear,\n",
       "  [torch.Size([2000, 3])]),\n",
       " ('base_model.model.seq.0.lora_embedding_A',\n",
       "  torch.nn.modules.container.ParameterDict,\n",
       "  []),\n",
       " ('base_model.model.seq.0.lora_embedding_B',\n",
       "  torch.nn.modules.container.ParameterDict,\n",
       "  []),\n",
       " ('base_model.model.seq.0.lora_magnitude_vector',\n",
       "  torch.nn.modules.container.ModuleDict,\n",
       "  []),\n",
       " ('base_model.model.seq.1', torch.nn.modules.activation.ReLU, []),\n",
       " ('base_model.model.seq.2',\n",
       "  peft.tuners.lora.layer.Linear,\n",
       "  [torch.Size([200, 2000]),\n",
       "   torch.Size([200]),\n",
       "   torch.Size([3, 2000]),\n",
       "   torch.Size([200, 3])]),\n",
       " ('base_model.model.seq.2.base_layer',\n",
       "  torch.nn.modules.linear.Linear,\n",
       "  [torch.Size([200, 2000]), torch.Size([200])]),\n",
       " ('base_model.model.seq.2.lora_dropout',\n",
       "  torch.nn.modules.container.ModuleDict,\n",
       "  []),\n",
       " ('base_model.model.seq.2.lora_dropout.default',\n",
       "  torch.nn.modules.linear.Identity,\n",
       "  []),\n",
       " ('base_model.model.seq.2.lora_A',\n",
       "  torch.nn.modules.container.ModuleDict,\n",
       "  [torch.Size([3, 2000])]),\n",
       " ('base_model.model.seq.2.lora_A.default',\n",
       "  torch.nn.modules.linear.Linear,\n",
       "  [torch.Size([3, 2000])]),\n",
       " ('base_model.model.seq.2.lora_B',\n",
       "  torch.nn.modules.container.ModuleDict,\n",
       "  [torch.Size([200, 3])]),\n",
       " ('base_model.model.seq.2.lora_B.default',\n",
       "  torch.nn.modules.linear.Linear,\n",
       "  [torch.Size([200, 3])]),\n",
       " ('base_model.model.seq.2.lora_embedding_A',\n",
       "  torch.nn.modules.container.ParameterDict,\n",
       "  []),\n",
       " ('base_model.model.seq.2.lora_embedding_B',\n",
       "  torch.nn.modules.container.ParameterDict,\n",
       "  []),\n",
       " ('base_model.model.seq.2.lora_magnitude_vector',\n",
       "  torch.nn.modules.container.ModuleDict,\n",
       "  []),\n",
       " ('base_model.model.seq.3', torch.nn.modules.activation.ReLU, []),\n",
       " ('base_model.model.seq.4',\n",
       "  torch.nn.modules.linear.Linear,\n",
       "  [torch.Size([2, 200]), torch.Size([2])]),\n",
       " ('base_model.model.seq.5', torch.nn.modules.activation.LogSoftmax, [])]"
      ]
     },
     "execution_count": 55,
     "metadata": {},
     "output_type": "execute_result"
    }
   ],
   "source": [
    "[(n, type(m), [p.shape for p in m.parameters()]) for n, m in peft_model.named_modules()]"
   ]
  },
  {
   "cell_type": "code",
   "execution_count": 56,
   "metadata": {},
   "outputs": [],
   "source": [
    "lora_B = peft_model.state_dict()['base_model.model.seq.0.lora_B.default.weight']\n",
    "lora_A = peft_model.state_dict()['base_model.model.seq.0.lora_A.default.weight']"
   ]
  },
  {
   "cell_type": "code",
   "execution_count": 57,
   "metadata": {},
   "outputs": [
    {
     "name": "stdout",
     "output_type": "stream",
     "text": [
      "torch.Size([3, 20])\n",
      "torch.Size([2000, 3])\n"
     ]
    }
   ],
   "source": [
    "print(lora_A.size())\n",
    "print(lora_B.size())"
   ]
  },
  {
   "cell_type": "code",
   "execution_count": 58,
   "metadata": {},
   "outputs": [
    {
     "name": "stdout",
     "output_type": "stream",
     "text": [
      "epoch=0   train_loss_total=0.1184  eval_loss_total=0.3984\n",
      "epoch=1   train_loss_total=0.1167  eval_loss_total=0.3984\n",
      "epoch=2   train_loss_total=0.1209  eval_loss_total=0.3984\n",
      "epoch=3   train_loss_total=0.1165  eval_loss_total=0.3984\n",
      "epoch=4   train_loss_total=0.1185  eval_loss_total=0.3984\n"
     ]
    }
   ],
   "source": [
    "#weight of adaptor\n",
    "#hpreact = X(input)* alpha + bias\n",
    "train(peft_model, optimizer, criterion, train_dataloader, eval_dataloader, epochs=5)"
   ]
  },
  {
   "cell_type": "code",
   "execution_count": 59,
   "metadata": {},
   "outputs": [],
   "source": [
    "#finetuned dataset\n",
    "x = torch.rand((500,20))\n",
    "\n",
    "y = (torch.sin(x.sum(1))>10).long()\n",
    "\n",
    "n_train = 300\n",
    "batch_size = 64"
   ]
  },
  {
   "cell_type": "code",
   "execution_count": 60,
   "metadata": {},
   "outputs": [
    {
     "name": "stdout",
     "output_type": "stream",
     "text": [
      "epoch=0   train_loss_total=0.7243  eval_loss_total=0.9177\n",
      "epoch=1   train_loss_total=0.7464  eval_loss_total=0.9177\n",
      "epoch=2   train_loss_total=0.7164  eval_loss_total=0.9177\n",
      "epoch=3   train_loss_total=0.7230  eval_loss_total=0.9177\n",
      "epoch=4   train_loss_total=0.7201  eval_loss_total=0.9177\n",
      "epoch=5   train_loss_total=0.7225  eval_loss_total=0.9177\n",
      "epoch=6   train_loss_total=0.7477  eval_loss_total=0.9177\n",
      "epoch=7   train_loss_total=0.7518  eval_loss_total=0.9177\n",
      "epoch=8   train_loss_total=0.7400  eval_loss_total=0.9177\n",
      "epoch=9   train_loss_total=0.7254  eval_loss_total=0.9177\n",
      "CPU times: total: 922 ms\n",
      "Wall time: 258 ms\n"
     ]
    }
   ],
   "source": [
    "import torch.utils.data.dataloader\n",
    "\n",
    "\n",
    "train_dataloader = torch.utils.data.DataLoader(torch.utils.data.TensorDataset(x[:n_train],y[:n_train]),batch_size=batch_size,shuffle=True)\n",
    "eval_dataloader = torch.utils.data.DataLoader(torch.utils.data.TensorDataset(x[n_train:],y[n_train:]),batch_size=batch_size)\n",
    "\n",
    "%time train(peft_model, optimizer, criterion, train_dataloader, eval_dataloader, epochs=10)"
   ]
  },
  {
   "cell_type": "code",
   "execution_count": 61,
   "metadata": {},
   "outputs": [
    {
     "data": {
      "text/plain": [
       "'cpu'"
      ]
     },
     "execution_count": 61,
     "metadata": {},
     "output_type": "execute_result"
    }
   ],
   "source": [
    "device"
   ]
  },
  {
   "cell_type": "code",
   "execution_count": 62,
   "metadata": {},
   "outputs": [
    {
     "name": "stdout",
     "output_type": "stream",
     "text": [
      "** Pretrained based model's parameters **\n",
      "seq.0.weight\n",
      "seq.0.bias\n",
      "seq.2.weight\n",
      "seq.2.bias\n",
      "seq.4.weight\n",
      "seq.4.bias\n",
      "\n",
      "** Peft model's parameters **\n",
      "base_model.model.seq.0.base_layer.weight\n",
      "base_model.model.seq.0.base_layer.bias\n",
      "base_model.model.seq.0.lora_A.default.weight\n",
      "base_model.model.seq.0.lora_B.default.weight\n",
      "base_model.model.seq.2.base_layer.weight\n",
      "base_model.model.seq.2.base_layer.bias\n",
      "base_model.model.seq.2.lora_A.default.weight\n",
      "base_model.model.seq.2.lora_B.default.weight\n",
      "base_model.model.seq.4.weight\n",
      "base_model.model.seq.4.bias\n"
     ]
    }
   ],
   "source": [
    "print(\"** Pretrained based model's parameters **\")\n",
    "for name, param in base_model_pretrained.named_parameters():\n",
    "  print(name)\n",
    "print()\n",
    "print(\"** Peft model's parameters **\")\n",
    "for name, param in peft_model.named_parameters():\n",
    "  print(name)"
   ]
  },
  {
   "cell_type": "code",
   "execution_count": 63,
   "metadata": {},
   "outputs": [
    {
     "name": "stdout",
     "output_type": "stream",
     "text": [
      "True\n",
      "True\n",
      "True\n",
      "True\n",
      "True\n",
      "True\n"
     ]
    }
   ],
   "source": [
    "print(torch.equal(base_model_pretrained.state_dict()['seq.0.weight'], peft_model.state_dict()['base_model.model.seq.0.base_layer.weight']))\n",
    "print(torch.equal(base_model_pretrained.state_dict()['seq.0.bias'], peft_model.state_dict()['base_model.model.seq.0.base_layer.bias']))\n",
    "print(torch.equal(base_model_pretrained.state_dict()['seq.2.weight'], peft_model.state_dict()['base_model.model.seq.2.base_layer.weight']))\n",
    "print(torch.equal(base_model_pretrained.state_dict()['seq.2.bias'], peft_model.state_dict()['base_model.model.seq.2.base_layer.bias']))\n",
    "print(torch.equal(base_model_pretrained.state_dict()['seq.4.weight'], peft_model.state_dict()['base_model.model.seq.4.weight']))\n",
    "print(torch.equal(base_model_pretrained.state_dict()['seq.4.bias'], peft_model.state_dict()['base_model.model.seq.4.bias']))"
   ]
  },
  {
   "cell_type": "code",
   "execution_count": 65,
   "metadata": {},
   "outputs": [
    {
     "name": "stdout",
     "output_type": "stream",
     "text": [
      "trainable params: 442602 || all params: 442602 || trainable%: 100.0\n",
      "trainable params: 12660 || all params: 455262 || trainable%: 2.780816321151337\n"
     ]
    }
   ],
   "source": [
    "trainable_parameters(base_model_pretrained)\n",
    "trainable_parameters(peft_model)"
   ]
  },
  {
   "cell_type": "code",
   "execution_count": 66,
   "metadata": {},
   "outputs": [],
   "source": [
    "config_1 = peft.LoraConfig(\n",
    "    r=3,\n",
    "    target_modules=[\"seq.0\", \"seq.2\"],\n",
    "    modules_to_save=[\"seq.4\"],\n",
    ")"
   ]
  },
  {
   "cell_type": "code",
   "execution_count": 67,
   "metadata": {},
   "outputs": [
    {
     "name": "stdout",
     "output_type": "stream",
     "text": [
      "trainable params: 13,062 || all params: 455,664 || trainable%: 2.8666\n"
     ]
    }
   ],
   "source": [
    "copy_1 = copy.deepcopy(base_model_pretrained) # keep the orginal as is and work on a copy\n",
    "peft_model_1 = peft.get_peft_model(copy_1, config_1)\n",
    "optimizer = torch.optim.Adam(peft_model_1.parameters(), lr=lr)\n",
    "criterion = nn.CrossEntropyLoss()\n",
    "peft_model_1.print_trainable_parameters()"
   ]
  },
  {
   "cell_type": "code",
   "execution_count": 68,
   "metadata": {},
   "outputs": [
    {
     "data": {
      "text/plain": [
       "PeftModel(\n",
       "  (base_model): LoraModel(\n",
       "    (model): MLP(\n",
       "      (seq): Sequential(\n",
       "        (0): lora.Linear(\n",
       "          (base_layer): Linear(in_features=20, out_features=2000, bias=True)\n",
       "          (lora_dropout): ModuleDict(\n",
       "            (default): Identity()\n",
       "          )\n",
       "          (lora_A): ModuleDict(\n",
       "            (default): Linear(in_features=20, out_features=3, bias=False)\n",
       "          )\n",
       "          (lora_B): ModuleDict(\n",
       "            (default): Linear(in_features=3, out_features=2000, bias=False)\n",
       "          )\n",
       "          (lora_embedding_A): ParameterDict()\n",
       "          (lora_embedding_B): ParameterDict()\n",
       "          (lora_magnitude_vector): ModuleDict()\n",
       "        )\n",
       "        (1): ReLU()\n",
       "        (2): lora.Linear(\n",
       "          (base_layer): Linear(in_features=2000, out_features=200, bias=True)\n",
       "          (lora_dropout): ModuleDict(\n",
       "            (default): Identity()\n",
       "          )\n",
       "          (lora_A): ModuleDict(\n",
       "            (default): Linear(in_features=2000, out_features=3, bias=False)\n",
       "          )\n",
       "          (lora_B): ModuleDict(\n",
       "            (default): Linear(in_features=3, out_features=200, bias=False)\n",
       "          )\n",
       "          (lora_embedding_A): ParameterDict()\n",
       "          (lora_embedding_B): ParameterDict()\n",
       "          (lora_magnitude_vector): ModuleDict()\n",
       "        )\n",
       "        (3): ReLU()\n",
       "        (4): ModulesToSaveWrapper(\n",
       "          (original_module): Linear(in_features=200, out_features=2, bias=True)\n",
       "          (modules_to_save): ModuleDict(\n",
       "            (default): Linear(in_features=200, out_features=2, bias=True)\n",
       "          )\n",
       "        )\n",
       "        (5): LogSoftmax(dim=-1)\n",
       "      )\n",
       "    )\n",
       "  )\n",
       ")"
      ]
     },
     "execution_count": 68,
     "metadata": {},
     "output_type": "execute_result"
    }
   ],
   "source": [
    "peft_model_1"
   ]
  },
  {
   "cell_type": "code",
   "execution_count": 69,
   "metadata": {},
   "outputs": [],
   "source": [
    "peft_model_unmerged = copy.deepcopy(peft_model)\n",
    "peft_model_merged_and_unloaded = peft_model.merge_and_unload()"
   ]
  },
  {
   "cell_type": "code",
   "execution_count": 71,
   "metadata": {},
   "outputs": [
    {
     "name": "stdout",
     "output_type": "stream",
     "text": [
      "trainable params: 0 || all params: 442602 || trainable%: 0.0\n"
     ]
    }
   ],
   "source": [
    "trainable_parameters(peft_model_merged_and_unloaded)"
   ]
  },
  {
   "cell_type": "code",
   "execution_count": 72,
   "metadata": {},
   "outputs": [
    {
     "name": "stdout",
     "output_type": "stream",
     "text": [
      "New parameter model.seq.0.weight                  |           40000 parameters | not updated\n",
      "New parameter model.seq.0.bias                    |            2000 parameters | not updated\n",
      "New parameter model.seq.2.weight                  |          400000 parameters | not updated\n",
      "New parameter model.seq.2.bias                    |             200 parameters | not updated\n",
      "New parameter model.seq.4.weight                  |             400 parameters | not updated\n",
      "New parameter model.seq.4.bias                    |               2 parameters | not updated\n"
     ]
    }
   ],
   "source": [
    "for name, param in peft_model.base_model.named_parameters():\n",
    "    if \"lora\" not in name:\n",
    "        print(f\"New parameter {name:<35} | {param.numel():>15} parameters | not updated\")\n",
    "        continue\n",
    "\n",
    "    print(f\"New parameter {name:<35} | {param.numel():>15} parameters | updated\")"
   ]
  },
  {
   "cell_type": "code",
   "execution_count": null,
   "metadata": {},
   "outputs": [],
   "source": []
  }
 ],
 "metadata": {
  "kernelspec": {
   "display_name": "Python 3",
   "language": "python",
   "name": "python3"
  },
  "language_info": {
   "codemirror_mode": {
    "name": "ipython",
    "version": 3
   },
   "file_extension": ".py",
   "mimetype": "text/x-python",
   "name": "python",
   "nbconvert_exporter": "python",
   "pygments_lexer": "ipython3",
   "version": "3.11.4"
  }
 },
 "nbformat": 4,
 "nbformat_minor": 2
}
